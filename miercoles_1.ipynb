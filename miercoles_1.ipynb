{
 "cells": [
  {
   "cell_type": "code",
   "execution_count": 1,
   "metadata": {},
   "outputs": [],
   "source": [
    "import scipy.integrate as inte # conjunto de librerias para conseguir las graficas\n",
    "import numpy as np \n",
    "import math \n",
    "import matplotlib.pyplot as plt"
   ]
  },
  {
   "cell_type": "code",
   "execution_count": 2,
   "metadata": {},
   "outputs": [
    {
     "data": {
      "text/plain": [
       "[<matplotlib.lines.Line2D at 0x7773b50>]"
      ]
     },
     "execution_count": 2,
     "metadata": {},
     "output_type": "execute_result"
    },
    {
     "data": {
      "image/png": "[encoded data removed]",
      "text/plain": [
       "<Figure size 432x288 with 1 Axes>"
      ]
     },
     "metadata": {},
     "output_type": "display_data"
    }
   ],
   "source": [
    "x = np.array([0, 1, 2, 3, 4, 5, 6,8,9,11,15,16,17,18,19,20,21.6,22.8,23.9,24.5,25.7,26.1,27.7,28.6,29.3,30.2,31.2,32.4,33.5,34.8,35.7,36.6,37.9])\n",
    "y = np.array([-0.6, 0.2, 0.9,1.5,2.5, 3.2, 4.6,5.8,6.1,7,8.2,9.7,10.1,11.5,12.3,13.5,14.9,16.7,17.9,18.4,19.3,20.4,21.0,22.9,23.7,24.8,25.7,26.3,27.4,28.6,29.4,30.1,31.9])\n",
    "xer=np.random.normal(0,0.3,len(x))  # mide el numero de datos para x\n",
    "yer=np.random.normal(0,0.4,len(y))   # mide el numero de datos para y\n",
    "plt.plot(x,y,'s')\n"
   ]
  },
  {
   "cell_type": "code",
   "execution_count": 3,
   "metadata": {},
   "outputs": [],
   "source": [
    "def modelo(x,A,B):   #se define una funcion de la recta\n",
    "    return A*x+B    #se escribe la exprecion de la recta"
   ]
  },
  {
   "cell_type": "code",
   "execution_count": 4,
   "metadata": {},
   "outputs": [],
   "source": [
    "def chicuadrado(A,B):# calcula los chi cuadrados para distintas operaciones delk calculo\n",
    "    chic = (((y-modelo(x,A,B))**2)/yer**2).sum() # realiza las sumas de nuestros elementos de la chi cuadrado\n",
    "    return chic    # se emplea para salir de las secuencia de datos pero con sus respectivos valores"
   ]
  },
  {
   "cell_type": "code",
   "execution_count": 5,
   "metadata": {},
   "outputs": [],
   "source": [
    "A0 = 0.04   # Valoes de arranque en el inicio\n",
    "B0 = 0.08\n",
    "longA = 0.07 # longitud de arranque para ambos valores\n",
    "longB = 0.05\n",
    "rango = 10000\n",
    "listaA=[]       # conjunto de lista en los datos que hay que trabajar\n",
    "listaB=[]\n",
    "listaA.append(A0) # agrega un solo elemento al\n",
    "                  ##final de la lista. Error común: no devuelve la nueva lista, simplemente modifica el original.\n",
    "listaB.append(B0)\n",
    "recibidos=0"
   ]
  },
  {
   "cell_type": "code",
   "execution_count": 8,
   "metadata": {},
   "outputs": [],
   "source": [
    "for a in range(rango):\n",
    "    inioA=listaA[-1]\n",
    "    inioB=listaB[-1]\n",
    "    nPA=np.random.normal(inioA,longA)\n",
    "    nPB=np.random.normal(inioB,longB)\n",
    "\n",
    "    distan=chicuadrado(inioA,inioB)-chicuadrado(nPA,nPB)\n",
    "\n",
    "    if distan > 0:\n",
    "        listaA.append(nPA)\n",
    "        listaB.append(nPB)\n",
    "        recibidos+=1\n",
    "    else:\n",
    "        funcion=math.exp(distan/2)\n",
    "        numale=np.random.uniform(0.0,1.0)\n",
    "        if funcion > numale:\n",
    "            listaA.append(nPA)\n",
    "            listaB.append(nPB)\n",
    "            recibidos+=1\n",
    "        else:\n",
    "            listaA.append(inioA)\n",
    "            listaB.append(inioB)\n",
    "\n",
    "dentro=rango"
   ]
  },
  {
   "cell_type": "code",
   "execution_count": 10,
   "metadata": {},
   "outputs": [
    {
     "name": "stdout",
     "output_type": "stream",
     "text": [
      "dentro del rango= 212 valores= 10000\n"
     ]
    }
   ],
   "source": [
    "print (\"dentro del rango=\",recibidos,\"valores=\",dentro)"
   ]
  },
  {
   "cell_type": "code",
   "execution_count": 11,
   "metadata": {},
   "outputs": [
    {
     "data": {
      "image/png": "[encoded data removed]",
      "text/plain": [
       "<Figure size 432x288 with 1 Axes>"
      ]
     },
     "metadata": {},
     "output_type": "display_data"
    }
   ],
   "source": [
    "plt.plot(listaA,listaB,'o')\n",
    "\n",
    "plt.show()\n"
   ]
  },
  {
   "cell_type": "code",
   "execution_count": null,
   "metadata": {},
   "outputs": [],
   "source": []
  }
 ],
 "metadata": {
  "kernelspec": {
   "display_name": "Python 3",
   "language": "python",
   "name": "python3"
  },
  "language_info": {
   "codemirror_mode": {
    "name": "ipython",
    "version": 3
   },
   "file_extension": ".py",
   "mimetype": "text/x-python",
   "name": "python",
   "nbconvert_exporter": "python",
   "pygments_lexer": "ipython3",
   "version": "3.6.5"
  }
 },
 "nbformat": 4,
 "nbformat_minor": 2
}
